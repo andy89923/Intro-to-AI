{
  "nbformat": 4,
  "nbformat_minor": 0,
  "metadata": {
    "colab": {
      "name": "0816153_HW1.ipynb",
      "provenance": [],
      "collapsed_sections": []
    },
    "kernelspec": {
      "display_name": "Python 3",
      "language": "python",
      "name": "python3"
    },
    "language_info": {
      "codemirror_mode": {
        "name": "ipython",
        "version": 3
      },
      "file_extension": ".py",
      "mimetype": "text/x-python",
      "name": "python",
      "nbconvert_exporter": "python",
      "pygments_lexer": "ipython3",
      "version": "3.9.1"
    }
  },
  "cells": [
    {
      "cell_type": "markdown",
      "metadata": {
        "id": "phl4Y2-kWRwN"
      },
      "source": [
        "# Artificial Intelligence - Assignment 1\n",
        "\n",
        "## 1. Description\n",
        "\n",
        "In this assignment, you are going to solve the 8-puzzle using any algorithm. The `EightPuzzle` class is written and provided by TAs, you don't need to implement the puzzle yourself, just import and use.\n",
        "\n",
        "## 2. How to use `EightPuzzle`\n",
        "\n",
        "```python\n",
        "from eight_puzzle import EightPuzzle # import\n",
        "\n",
        "puzzle = EightPuzzle()\n",
        "\n",
        "puzzle.init()     # initialize a solvable puzzle state\n",
        "puzzle.init(seed) # initialize a solvable puzzle state using a seed\n",
        "print(puzzle)     # show current puzzle state\n",
        "\n",
        "# move\n",
        "puzzle.move('up')\n",
        "puzzle.move('down')\n",
        "puzzle.move('left')\n",
        "puzzle.move('right')\n",
        "\n",
        "if puzzle.state == puzzle.FINAL_STATE:\n",
        "  print('You have solved the puzzle')\n",
        "\n",
        "# Useful: get the next state after you move in a direction,\n",
        "# this won't change the internal state if EightPuzzle.\n",
        "state_after_move_up = puzzle.get_state_after_move(current_state, 'up')\n",
        "\n",
        "```"
      ]
    },
    {
      "cell_type": "code",
      "metadata": {
        "colab": {
          "base_uri": "https://localhost:8080/"
        },
        "id": "402LsZPhUmgl",
        "outputId": "4d953eb6-86ec-4cc6-bf9b-f7b16f5dedd5"
      },
      "source": [
        "# NOTE: PLEASE KEEP THIS CELL NOT MODIFIED!\n",
        "\n",
        "# download eight_puzzle.py (YOU SHOULD NOT MODIFY eight_puzzle.py)\n",
        "!wget https://lab.djosix.com/eight_puzzle.py -qO eight_puzzle.py\n",
        "!sha1sum eight_puzzle.py\n",
        "\n",
        "from eight_puzzle import EightPuzzle, test"
      ],
      "execution_count": 1,
      "outputs": [
        {
          "output_type": "stream",
          "text": [
            "cea1d62ff26ac1db4b66aea0ac935b8daa0d2422  eight_puzzle.py\n"
          ],
          "name": "stdout"
        }
      ]
    },
    {
      "cell_type": "code",
      "metadata": {
        "id": "yCDHjleOb9Fd"
      },
      "source": [
        "dirs = [ \"up\", \"down\", \"left\", \"right\" ]\n",
        "finalState = EightPuzzle()\n",
        "finalState.init()\n",
        "finalState = finalState.FINAL_STATE\n",
        "\n",
        "# print(finalState) \n",
        "# (1, 2, 3, 4, 5, 6, 7, 8, 0)\n",
        "\n",
        "finalPostion = {}\n",
        "x = 1\n",
        "y = 1\n",
        "for i in finalState:\n",
        "    finalPostion[i] = (x, y)\n",
        "    y = y + 1\n",
        "    if y > 3:\n",
        "        x = x + 1\n",
        "        y = 1\n",
        "\n",
        "def calculateHeuristic(puzzle: EightPuzzle) -> int:\n",
        "    dis_sum = 0\n",
        "    x = 1\n",
        "    y = 1\n",
        "    \n",
        "    nowState = puzzle.state\n",
        "    for i in nowState:\n",
        "        dis_sum += abs(finalPostion[i][0] - x)\n",
        "        dis_sum += abs(finalPostion[i][1] - y)\n",
        "        y = y + 1\n",
        "        if y > 3:\n",
        "            x = x + 1\n",
        "            y = 1\n",
        "        \n",
        "    return dis_sum"
      ],
      "execution_count": 2,
      "outputs": []
    },
    {
      "cell_type": "code",
      "metadata": {
        "id": "cCladATww_Sw"
      },
      "source": [
        "# Test Session\n",
        "def mytest():\n",
        "    tmp = EightPuzzle()\n",
        "    tmp.init()\n",
        "    \n",
        "    print(tmp)\n",
        "    print(calculateHeuristic(tmp))\n",
        "    \n",
        "    return\n",
        "\n",
        "# mytest()"
      ],
      "execution_count": 3,
      "outputs": []
    },
    {
      "cell_type": "code",
      "metadata": {
        "id": "CAqxPuKRw_Sx"
      },
      "source": [
        "class Node:\n",
        "    puzzle = None\n",
        "    steps = 0\n",
        "    actions = None\n",
        "    hValue = 0\n",
        "    \n",
        "    def __init__(self, puzzle, steps, actions, hValue):\n",
        "        self.puzzle = puzzle\n",
        "        self.steps = steps\n",
        "        self.actions = actions\n",
        "        self.hValue = hValue"
      ],
      "execution_count": 4,
      "outputs": []
    },
    {
      "cell_type": "code",
      "metadata": {
        "id": "qjsN8nUXw_Sx"
      },
      "source": [
        "def chooseBestNode(nodes: [Node]) -> Node:\n",
        "    tmp = 10000000000\n",
        "    nod = None\n",
        "    \n",
        "    for i in nodes:\n",
        "        now = i.puzzle    \n",
        "        ss = i.hValue + i.steps\n",
        "        if ss < tmp:\n",
        "            nod = i\n",
        "            tmp = ss\n",
        "    return nod"
      ],
      "execution_count": 5,
      "outputs": []
    },
    {
      "cell_type": "code",
      "metadata": {
        "id": "_OuRn868WNW0"
      },
      "source": [
        "import copy\n",
        "\n",
        "def solve(puzzle: EightPuzzle) -> list:\n",
        "    ''' \n",
        "      Solve the given 8-puzzle and return a list of moves.\n",
        "\n",
        "      Args:\n",
        "        puzzle (EightPuzzle): an EightPuzzle object.\n",
        "\n",
        "      Returns:\n",
        "        list: a list containing each move direction, for example:\n",
        "              ['up', 'down', 'left', 'left', ...]\n",
        "    '''\n",
        "    pulzs = {}\n",
        "    nodes = []\n",
        "    now = Node(puzzle, 0, [], calculateHeuristic(puzzle))\n",
        "    nodes.append(now)\n",
        "    \n",
        "    pulzs[puzzle.state] = 1\n",
        "    \n",
        "    ans = []\n",
        "    max_Size = 20000\n",
        "    while max_Size >= 0 and len(nodes) > 0:\n",
        "        max_Size -= 1\n",
        "        \n",
        "        now = chooseBestNode(nodes)\n",
        "        nodes.remove(now)\n",
        "        \n",
        "        for i in dirs: \n",
        "            tmp = copy.copy(now.puzzle)\n",
        "            acts = copy.copy(now.actions)\n",
        "            \n",
        "            tmp.move(i)\n",
        "            \n",
        "            if tmp.state in pulzs:\n",
        "                continue\n",
        "            \n",
        "            pulzs[tmp.state] = 1\n",
        "            \n",
        "            acts.append(i)\n",
        "            if tmp.state == tmp.FINAL_STATE:\n",
        "                return acts\n",
        "            \n",
        "            nowNode = Node(tmp, now.steps + 1, acts, calculateHeuristic(tmp))\n",
        "            nodes.append(nowNode)\n",
        "    \n",
        "    return ans"
      ],
      "execution_count": 6,
      "outputs": []
    },
    {
      "cell_type": "markdown",
      "metadata": {
        "id": "MPBYw09wWPSL"
      },
      "source": [
        "## 4. Test your algorithm"
      ]
    },
    {
      "cell_type": "code",
      "metadata": {
        "colab": {
          "base_uri": "https://localhost:8080/"
        },
        "id": "J10hedG1w_Sz",
        "outputId": "4688ffe2-9cba-4279-955a-0050784b2c76"
      },
      "source": [
        "tmp = EightPuzzle()\n",
        "tmp.init()\n",
        "\n",
        "print(tmp)\n",
        "\n",
        "print(solve(tmp))"
      ],
      "execution_count": 7,
      "outputs": [
        {
          "output_type": "stream",
          "text": [
            "8-Puzzle:\n",
            "|7 2 6|\n",
            "|4 1 8|\n",
            "|5   3|\n",
            "\n",
            "['left', 'down', 'down', 'right', 'up', 'up', 'left', 'down', 'right', 'right', 'down', 'left', 'left', 'up', 'up', 'right', 'right', 'down', 'left', 'up', 'left']\n"
          ],
          "name": "stdout"
        }
      ]
    },
    {
      "cell_type": "code",
      "metadata": {
        "colab": {
          "base_uri": "https://localhost:8080/"
        },
        "id": "567OKKy0psOR",
        "outputId": "1d61eb93-8c11-4429-edd2-d01d1df336ce"
      },
      "source": [
        "# NOTE: PLEASE KEEP THIS CELL NOT MODIFIED!\n",
        "\n",
        "results = test(solve, n=10)"
      ],
      "execution_count": 13,
      "outputs": [
        {
          "output_type": "stream",
          "text": [
            "Running tests with seed: None\n",
            "Test | seed: 82586166 | puzzle: (5, 0, 8, 2, 1, 4, 6, 7, 3) | elapsed: 1.8453s | solved\n",
            "Test | seed: 97113427 | puzzle: (6, 0, 8, 3, 5, 7, 2, 1, 4) | elapsed: 0.0074s | solved\n",
            "Test | seed: 44885690 | puzzle: (6, 4, 7, 0, 2, 1, 8, 5, 3) | elapsed: 0.3871s | solved\n",
            "Test | seed: 51206066 | puzzle: (7, 1, 6, 5, 8, 0, 4, 2, 3) | elapsed: 0.0964s | solved\n",
            "Test | seed: 63914133 | puzzle: (3, 0, 4, 6, 5, 8, 7, 1, 2) | elapsed: 0.7661s | solved\n",
            "Test | seed: 82729019 | puzzle: (7, 1, 2, 4, 8, 3, 0, 5, 6) | elapsed: 0.0094s | solved\n",
            "Test | seed: 30525631 | puzzle: (0, 1, 6, 3, 2, 5, 7, 8, 4) | elapsed: 0.0324s | solved\n",
            "Test | seed: 63399080 | puzzle: (4, 0, 6, 8, 5, 7, 3, 1, 2) | elapsed: 0.2732s | solved\n",
            "Test | seed: 53326003 | puzzle: (0, 1, 2, 8, 7, 4, 3, 5, 6) | elapsed: 0.6077s | solved\n",
            "Test | seed: 50221332 | puzzle: (4, 0, 6, 7, 3, 5, 8, 2, 1) | elapsed: 0.0319s | solved\n",
            "===> Solved: 10/10\n",
            "===> Average elapsed time: 0.4057s\n"
          ],
          "name": "stdout"
        }
      ]
    },
    {
      "cell_type": "markdown",
      "metadata": {
        "id": "zIHyo9QW7S7o"
      },
      "source": [
        "## 5. Submitting your assignment\n",
        "\n",
        "\n",
        "1. You have to save 2 files:\n",
        "  - `XXXXXXX_1.py` (click `\"File\" > \"Download .py\"`)\n",
        "  - `XXXXXXX_1.ipynb` (click `\"File\" > \"Download .ipynb\"`)\n",
        "\n",
        "  where `XXXXXXX` is your student ID.  \n",
        "2. Compress these 2 files into a `.zip` file named `XXXXXXX_1.zip`.\n",
        "3. Upload the zip file to E3.\n",
        "\n"
      ]
    }
  ]
}